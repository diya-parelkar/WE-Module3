{
  "nbformat": 4,
  "nbformat_minor": 0,
  "metadata": {
    "colab": {
      "provenance": [],
      "authorship_tag": "ABX9TyPkTISO2wGZEmInjTlFrMp4",
      "include_colab_link": true
    },
    "kernelspec": {
      "name": "python3",
      "display_name": "Python 3"
    },
    "language_info": {
      "name": "python"
    }
  },
  "cells": [
    {
      "cell_type": "markdown",
      "metadata": {
        "id": "view-in-github",
        "colab_type": "text"
      },
      "source": [
        "<a href=\"https://colab.research.google.com/github/diya-parelkar/WE-Module3/blob/main/Markov%20Chain/Assignment_4_Markov_Chain.ipynb\" target=\"_parent\"><img src=\"https://colab.research.google.com/assets/colab-badge.svg\" alt=\"Open In Colab\"/></a>"
      ]
    },
    {
      "cell_type": "code",
      "execution_count": 2,
      "metadata": {
        "colab": {
          "base_uri": "https://localhost:8080/"
        },
        "id": "kVhHI4wMo2vJ",
        "outputId": "86c72b87-1da2-4cb7-e849-f2656019b20e"
      },
      "outputs": [
        {
          "output_type": "stream",
          "name": "stdout",
          "text": [
            "The quick brown fox jumps over the lazy dog. The lazy dog barks at the moon. This is an example sentence. Another example sentence follows. The quick brown fox is a quick animal. The fox likes to jump.\n"
          ]
        }
      ],
      "source": [
        "import random\n",
        "from collections import defaultdict\n",
        "\n",
        "def build_markov_chain(text: str, chain_length: int) -> dict:\n",
        "    \"\"\"Builds a Markov chain from the given text.\"\"\"\n",
        "    words = text.split()\n",
        "    markov_chain = defaultdict(list)\n",
        "    for i in range(len(words) - chain_length):\n",
        "        key = tuple(words[i:i + chain_length])\n",
        "        value = words[i + chain_length]\n",
        "        markov_chain[key].append(value)\n",
        "    return markov_chain\n",
        "\n",
        "def generate_sentence(markov_chain: dict, start_words: list[str], num_words: int) -> str:\n",
        "    \"\"\"Generates a sentence based on the provided Markov chain and start words.\"\"\"\n",
        "    current_words = tuple(start_words)\n",
        "    sentence = list(current_words)\n",
        "    prev_word = None  # To track the previously generated word\n",
        "    for _ in range(num_words):\n",
        "        # Check if current_words exist in the Markov chain\n",
        "        if current_words not in markov_chain:\n",
        "            break  # No next word available, end the sentence\n",
        "        next_word = random.choice(markov_chain[current_words])\n",
        "        # Check if next_word is the same as the previous word\n",
        "        while next_word == prev_word:\n",
        "            next_word = random.choice(markov_chain[current_words])\n",
        "        sentence.append(next_word)\n",
        "        prev_word = next_word\n",
        "        current_words = tuple(sentence[-len(start_words):])\n",
        "    return ' '.join(sentence)\n",
        "\n",
        "def generate(start_words: list[str], chain_length: int, num_generated: int) -> str:\n",
        "    \"\"\"\n",
        "    Generates a sentence using a Markov chain approach with the given parameters.\n",
        "    The text used for the Markov chain is hardcoded here.\n",
        "    \"\"\"\n",
        "    text = \"\"\"\n",
        "    The quick brown fox jumps over the lazy dog. The lazy dog barks at the moon.\n",
        "    This is an example sentence. Another example sentence follows.\n",
        "    The quick brown fox is a quick animal. The fox likes to jump.\n",
        "    \"\"\"\n",
        "\n",
        "    # Build Markov chain\n",
        "    markov_chain = build_markov_chain(text, chain_length)\n",
        "\n",
        "    # Generate sentence\n",
        "    generated_sentence = generate_sentence(markov_chain, start_words, num_generated)\n",
        "\n",
        "    return generated_sentence\n",
        "\n",
        "# Example Usage\n",
        "start_words = [\"The\", \"quick\"]  # Start words\n",
        "chain_length = 2  # Length of Markov chain\n",
        "num_generated = 80  # Number of words to generate\n",
        "\n",
        "result = generate(start_words, chain_length, num_generated)\n",
        "print(result)\n"
      ]
    }
  ]
}