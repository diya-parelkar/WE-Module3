{
  "nbformat": 4,
  "nbformat_minor": 0,
  "metadata": {
    "colab": {
      "provenance": [],
      "authorship_tag": "ABX9TyPuJRG3yXhIbGPg8Kfz9ujl",
      "include_colab_link": true
    },
    "kernelspec": {
      "name": "python3",
      "display_name": "Python 3"
    },
    "language_info": {
      "name": "python"
    }
  },
  "cells": [
    {
      "cell_type": "markdown",
      "metadata": {
        "id": "view-in-github",
        "colab_type": "text"
      },
      "source": [
        "<a href=\"https://colab.research.google.com/github/diya-parelkar/WE-Module3/blob/main/WE-Module3/Odometer/Assignment_1_GenAI_Odometer.ipynb\" target=\"_parent\"><img src=\"https://colab.research.google.com/assets/colab-badge.svg\" alt=\"Open In Colab\"/></a>"
      ]
    },
    {
      "cell_type": "code",
      "execution_count": 17,
      "metadata": {
        "id": "Gf6JLBZdxjc2"
      },
      "outputs": [],
      "source": [
        "#ChatGPT was only able to generate code after refrence from Asokan's code was given\n",
        "def size(n: int) -> int:\n",
        "    return len(str(n))\n",
        "\n",
        "def get_limits(n: int) -> tuple[int, int]:\n",
        "    DIGITS = \"123456789\"\n",
        "    k = size(n)\n",
        "    return int(DIGITS[:k]), int(DIGITS[-k:])\n",
        "\n",
        "def is_ascending(n: int) -> bool:\n",
        "    if n < 10:\n",
        "        return True\n",
        "    if (n % 10) <= (n//10) % 10:\n",
        "        return False\n",
        "    return is_ascending(n//10)\n",
        "\n",
        "def next_reading(n: int) -> int:\n",
        "    START, LIMIT = get_limits(n)\n",
        "    if n == LIMIT:\n",
        "        return START\n",
        "    n += 1\n",
        "    while not is_ascending(n):\n",
        "        n += 1\n",
        "    return n\n",
        "\n",
        "def previous_reading(n: int) -> int:\n",
        "    START, LIMIT = get_limits(n)\n",
        "    if n == START:\n",
        "        return LIMIT\n",
        "    n -= 1\n",
        "    while not is_ascending(n):\n",
        "        n -= 1\n",
        "    return n\n",
        "\n",
        "def nth_reading_after(reading: int, r: int) -> int:\n",
        "    current_reading = reading\n",
        "    for _ in range(r):\n",
        "        current_reading = next_reading(current_reading)\n",
        "    return current_reading\n",
        "\n",
        "def nth_reading_before(reading: int, r: int) -> int:\n",
        "    current_reading = reading\n",
        "    for _ in range(r):\n",
        "        current_reading = previous_reading(current_reading)\n",
        "    return current_reading\n",
        "\n",
        "def distance(reading1: int, reading2: int) -> int:\n",
        "    len1 = size(reading1)\n",
        "    len2 = size(reading2)\n",
        "\n",
        "    if len1 != len2:\n",
        "        return -1  # Different sized readings\n",
        "\n",
        "    if reading1 == reading2:\n",
        "        return 0\n",
        "\n",
        "    count = 0\n",
        "    while reading1 != reading2:\n",
        "        reading1 = next_reading(reading1)\n",
        "        count += 1\n",
        "\n",
        "    return count\n",
        "\n",
        "\n"
      ]
    },
    {
      "cell_type": "code",
      "source": [
        "# Testing the functions\n",
        "print(next_reading(589))\n",
        "print(previous_reading(589))\n",
        "print(nth_reading_after(589, 3))\n",
        "print(nth_reading_before(589, 3))\n",
        "print(distance(589, 678))\n",
        "print(distance(2467, 2468))\n",
        "print(distance(12345, 56789))\n",
        "print(distance(789, 123))\n",
        "print(distance(123, 789))\n",
        "print(distance(2468, 2467))\n",
        "print(distance(2467, 2468))\n",
        "print(distance(12345, 12356))\n",
        "print(distance(589, 12356))\n",
        "print(distance(12356, 589))"
      ],
      "metadata": {
        "colab": {
          "base_uri": "https://localhost:8080/"
        },
        "id": "coX7f5qXxo2w",
        "outputId": "8ed08746-ec5d-4fba-a25e-d7b449681c24"
      },
      "execution_count": 18,
      "outputs": [
        {
          "output_type": "stream",
          "name": "stdout",
          "text": [
            "678\n",
            "579\n",
            "689\n",
            "569\n",
            "1\n",
            "1\n",
            "125\n",
            "1\n",
            "83\n",
            "125\n",
            "1\n",
            "5\n",
            "-1\n",
            "-1\n"
          ]
        }
      ]
    },
    {
      "cell_type": "code",
      "source": [
        "print(distance(123, 124))   # Output: 1\n",
        "print(distance(123, 789))   # Output: 666\n",
        "print(distance(789, 123))   # Output: 1\n",
        "print(distance(1234, 5678)) # Output: 2\n"
      ],
      "metadata": {
        "colab": {
          "base_uri": "https://localhost:8080/"
        },
        "id": "MtDlwnx356oY",
        "outputId": "1e74be0a-4d76-405f-b289-ab81f2477d44"
      },
      "execution_count": 19,
      "outputs": [
        {
          "output_type": "stream",
          "name": "stdout",
          "text": [
            "1\n",
            "83\n",
            "1\n",
            "121\n"
          ]
        }
      ]
    }
  ]
}